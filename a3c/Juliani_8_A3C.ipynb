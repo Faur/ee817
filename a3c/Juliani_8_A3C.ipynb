{
 "cells": [
  {
   "cell_type": "markdown",
   "metadata": {},
   "source": [
    "### 2 Do\n",
    "* Write over basics\n",
    "\n",
    "### Done\n",
    "* Add CartPole env\n",
    "* Get shit to run\n",
    "* ReRead tutorial\n",
    "* Go through code, check TODO's\n"
   ]
  },
  {
   "cell_type": "markdown",
   "metadata": {},
   "source": [
    "# Simple Reinforcement Learning with Tensorflow Part 8: Asynchronous Actor-Critic Agents (A3C)\n",
    "https://medium.com/emergent-future/simple-reinforcement-learning-with-tensorflow-part-8-asynchronous-actor-critic-agents-a3c-c88f72a5e9f2\n",
    "\n",
    "\n",
    "Introduction take aways\n",
    "* The A3C algorithm was released by Google’s DeepMind group earlier this year, and it made a splash by… essentially obsoleting DQN\n",
    "  * faster, simpler, more robust, and able to achieve much better scores on the standard battery of Deep RL tasks.\n",
    "  * Continuous + discrete actions\n",
    "  * New go-to method for complex action + complex state problems\n",
    "\n",
    "\n",
    "Actor-Critic\n",
    "* Value function V(s)\n",
    "* Policy $\\pi$(s) (stochastic)\n",
    "* Advantage: A=R-V(s)\n",
    "  * We will actually use [**generalized advantage estimation**](https://arxiv.org/abs/1506.02438) (Berkeley)\n",
    "\n",
    "\n",
    "Code that inspired Juliani\n",
    " * [DennyBritz](https://github.com/dennybritz/reinforcement-learning)\n",
    " * [OpenAI Starter bot](https://github.com/openai/universe-starter-agent)\n"
   ]
  },
  {
   "cell_type": "markdown",
   "metadata": {},
   "source": [
    "## Code break down\n",
    "\n",
    "**AC_Network**: Creates the networks themselves\n",
    "\n",
    "**Worker**: Logic for interacting with the environment and updating the global network\n",
    "\n",
    "For 'fast envionments' (e.g. 60 fps) have one core per worker. For slow environments (e.g. 5 fps) you can have several (e.g. 1-4)"
   ]
  },
  {
   "cell_type": "markdown",
   "metadata": {},
   "source": [
    "### Entropy\n",
    "Output: Actions with similar probabilities: **high entropy**\n",
    "\n",
    "Output: Single action with high probability: **Low entropy**\n",
    "\n",
    "We **subtract** the entropy (never mind the wierd formulations..) i.e. increase in entropy --> decrease in loss function"
   ]
  },
  {
   "cell_type": "code",
   "execution_count": null,
   "metadata": {
    "collapsed": true
   },
   "outputs": [],
   "source": [
    "%%javascript\n",
    "\n",
    "Jupyter.keyboard_manager.command_shortcuts.add_shortcut('r', {\n",
    "    help : 'run all cells',\n",
    "    help_index : 'zz',\n",
    "    handler : function (event) {\n",
    "        IPython.notebook.execute_all_cells();\n",
    "        return false;\n",
    "    }\n",
    "});"
   ]
  },
  {
   "cell_type": "code",
   "execution_count": null,
   "metadata": {
    "collapsed": true
   },
   "outputs": [],
   "source": [
    "from __future__ import absolute_import, division, print_function, unicode_literals\n",
    "%matplotlib inline"
   ]
  },
  {
   "cell_type": "code",
   "execution_count": null,
   "metadata": {
    "collapsed": true
   },
   "outputs": [],
   "source": [
    "\n",
    "# import threading\n",
    "import multiprocessing\n",
    "import os\n",
    "# import numpy as np\n",
    "# import matplotlib.pyplot as plt\n",
    "import tensorflow as tf\n",
    "import tensorflow.contrib.slim as slim\n",
    "import gym\n",
    "# import scipy.signal\n",
    "# from vizdoom import *\n",
    "\n",
    "# from random import choice\n",
    "# from time import sleep\n",
    "# from time import time\n",
    "\n",
    "import sys\n",
    "sys.path.append('./..')\n",
    "\n",
    "from utils import *\n",
    "from a3c import *\n",
    "from juliani_helper import *"
   ]
  },
  {
   "cell_type": "code",
   "execution_count": null,
   "metadata": {
    "collapsed": true
   },
   "outputs": [],
   "source": [
    "## Hyperparameters\n",
    "env_name = 'Breakout-v0'\n",
    "env_name = 'CartPole-v1'\n",
    "\n",
    "\n",
    "max_episode_length = 300\n",
    "gamma = 0.99\n",
    "down_sample_factor = 2\n",
    "\n",
    "load_model = False\n",
    "model_path = os.path.join('.', 'model')\n",
    "frames_path = os.path.join('.', 'frames')"
   ]
  },
  {
   "cell_type": "code",
   "execution_count": null,
   "metadata": {
    "collapsed": true
   },
   "outputs": [],
   "source": [
    "## Setup\n",
    "num_cpu=multiprocessing.cpu_count()\n",
    "\n",
    "if not os.path.exists(model_path):\n",
    "    os.makedirs(model_path)\n",
    "\n",
    "if not os.path.exists(frames_path):\n",
    "    os.makedirs(frames_path)\n",
    "\n",
    "env = gym.make(env_name)\n",
    "observation = env.reset()\n",
    "# observation = prepro(env.render(mode='rgb_array'), down_sample_factor)\n",
    "# env.render(close=True)\n",
    "\n",
    "s_size = list(observation.shape)\n",
    "a_size = env.action_space.n # number of action dimensions\n",
    "print('s_size:', s_size)\n",
    "print('a_size:', a_size)\n",
    "\n",
    "## Setup tensorboard"
   ]
  },
  {
   "cell_type": "code",
   "execution_count": null,
   "metadata": {
    "collapsed": true
   },
   "outputs": [],
   "source": [
    "## Print Hyperparameter summary\n",
    "print('load_model:', load_model)\n",
    "\n",
    "## Print setup summary\n",
    "print('Number of available CPU cores:', num_cpu)"
   ]
  },
  {
   "cell_type": "code",
   "execution_count": null,
   "metadata": {
    "collapsed": true,
    "scrolled": true
   },
   "outputs": [],
   "source": [
    "tf.reset_default_graph()\n",
    "\n",
    "## Initialize worker and agents\n",
    "with tf.device('/cpu:0'):\n",
    "    global_episodes = tf.Variable(0, dtype=tf.int32, name='global_episodes',\n",
    "                                  trainable=False)\n",
    "    trainer = tf.train.RMSPropOptimizer(learning_rate=1e-3) #TODO: Change to RMSProp\n",
    "    \n",
    "    master_network = AC_Network(s_size, a_size, scope='global', trainer=None)\n",
    "    workers = []\n",
    "    for i in range(num_cpu):\n",
    "        env = gym.make(env_name)\n",
    "        workers.append(Worker(env, i, s_size, a_size, trainer,\n",
    "                             model_path, global_episodes))\n",
    "    saver = tf.train.Saver(max_to_keep=5)\n",
    "\n",
    "\n",
    "## Train model\n",
    "with tf.Session() as sess:\n",
    "    coord = tf.train.Coordinator() # Used to coordinate different threads\n",
    "    \n",
    "    if load_model:\n",
    "        print('Loading model...')\n",
    "        ckpt = tf.rain.get_checkpoint_state(model_path)\n",
    "        saver.restore(sess, ckpt.model_checkpoint_path)\n",
    "    else:\n",
    "        sess.run(tf.global_variables_initializer())\n",
    "    \n",
    "    worker_threads = []\n",
    "    for worker in workers:\n",
    "        worker_work = lambda: worker.work(max_episode_length, gamma, sess, coord, saver)\n",
    "        t = threading.Thread(target=(worker_work))\n",
    "        t.start() # set the thread to start working\n",
    "        sleep(0.5) #TODO: Is this really the best way to do this???!\n",
    "        worker_threads.append(t)\n",
    "#         break\n",
    "    coord.join(worker_threads)\n",
    "\n",
    "print('Terminated!')"
   ]
  },
  {
   "cell_type": "code",
   "execution_count": null,
   "metadata": {
    "collapsed": true
   },
   "outputs": [],
   "source": [
    "print('Done')"
   ]
  },
  {
   "cell_type": "code",
   "execution_count": null,
   "metadata": {
    "collapsed": true
   },
   "outputs": [],
   "source": []
  },
  {
   "cell_type": "markdown",
   "metadata": {
    "collapsed": true
   },
   "source": [
    "\n",
    "\n",
    "\n",
    "\n",
    "\n",
    "\n",
    "\n",
    "\n",
    "\n",
    "\n",
    "\n",
    "\n",
    "\n",
    "\n",
    "\n",
    "\n",
    "\n",
    "\n"
   ]
  },
  {
   "cell_type": "markdown",
   "metadata": {},
   "source": [
    "\n",
    "\n",
    "\n",
    "\n",
    "\n",
    "\n",
    "\n",
    "\n",
    "\n",
    "\n",
    "\n"
   ]
  }
 ],
 "metadata": {
  "kernelspec": {
   "display_name": "Python 2",
   "language": "python",
   "name": "python2"
  },
  "language_info": {
   "codemirror_mode": {
    "name": "ipython",
    "version": 2
   },
   "file_extension": ".py",
   "mimetype": "text/x-python",
   "name": "python",
   "nbconvert_exporter": "python",
   "pygments_lexer": "ipython2",
   "version": "2.7.13"
  }
 },
 "nbformat": 4,
 "nbformat_minor": 1
}
