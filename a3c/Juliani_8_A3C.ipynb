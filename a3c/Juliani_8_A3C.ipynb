{
 "cells": [
  {
   "cell_type": "markdown",
   "metadata": {},
   "source": [
    "### 2 Do\n",
    "* Write over basics\n",
    "\n",
    "### Done\n",
    "* Add CartPole env\n",
    "* Get shit to run\n",
    "* ReRead tutorial\n",
    "* Go through code, check TODO's\n"
   ]
  },
  {
   "cell_type": "markdown",
   "metadata": {},
   "source": [
    "# Simple Reinforcement Learning with Tensorflow Part 8: Asynchronous Actor-Critic Agents (A3C)\n",
    "https://medium.com/emergent-future/simple-reinforcement-learning-with-tensorflow-part-8-asynchronous-actor-critic-agents-a3c-c88f72a5e9f2\n",
    "\n",
    "\n",
    "Introduction take aways\n",
    "* The A3C algorithm was released by Google’s DeepMind group earlier this year, and it made a splash by… essentially obsoleting DQN\n",
    "  * faster, simpler, more robust, and able to achieve much better scores on the standard battery of Deep RL tasks.\n",
    "  * Continuous + discrete actions\n",
    "  * New go-to method for complex action + complex state problems\n",
    "\n",
    "\n",
    "Actor-Critic\n",
    "* Value function V(s)\n",
    "* Policy $\\pi$(s) (stochastic)\n",
    "* Advantage: A=R-V(s)\n",
    "  * We will actually use [**generalized advantage estimation**](https://arxiv.org/abs/1506.02438) (Berkeley)\n",
    "\n",
    "\n",
    "Code that inspired Juliani\n",
    " * [DennyBritz](https://github.com/dennybritz/reinforcement-learning)\n",
    " * [OpenAI Starter bot](https://github.com/openai/universe-starter-agent)\n"
   ]
  },
  {
   "cell_type": "markdown",
   "metadata": {},
   "source": [
    "## Code break down\n",
    "\n",
    "**AC_Network**: Creates the networks themselves\n",
    "\n",
    "**Worker**: Logic for interacting with the environment and updating the global network\n",
    "\n",
    "For 'fast envionments' (e.g. 60 fps) have one core per worker. For slow environments (e.g. 5 fps) you can have several (e.g. 1-4)"
   ]
  },
  {
   "cell_type": "markdown",
   "metadata": {},
   "source": [
    "### Entropy\n",
    "Output: Actions with similar probabilities: **high entropy**\n",
    "\n",
    "Output: Single action with high probability: **Low entropy**\n",
    "\n",
    "We **subtract** the entropy (never mind the wierd formulations..) i.e. increase in entropy --> decrease in loss function"
   ]
  },
  {
   "cell_type": "code",
   "execution_count": 1,
   "metadata": {
    "collapsed": false
   },
   "outputs": [
    {
     "data": {
      "application/javascript": [
       "\n",
       "Jupyter.keyboard_manager.command_shortcuts.add_shortcut('r', {\n",
       "    help : 'run all cells',\n",
       "    help_index : 'zz',\n",
       "    handler : function (event) {\n",
       "        IPython.notebook.execute_all_cells();\n",
       "        return false;\n",
       "    }\n",
       "});"
      ],
      "text/plain": [
       "<IPython.core.display.Javascript object>"
      ]
     },
     "metadata": {},
     "output_type": "display_data"
    }
   ],
   "source": [
    "%%javascript\n",
    "\n",
    "Jupyter.keyboard_manager.command_shortcuts.add_shortcut('r', {\n",
    "    help : 'run all cells',\n",
    "    help_index : 'zz',\n",
    "    handler : function (event) {\n",
    "        IPython.notebook.execute_all_cells();\n",
    "        return false;\n",
    "    }\n",
    "});"
   ]
  },
  {
   "cell_type": "code",
   "execution_count": 2,
   "metadata": {
    "collapsed": true
   },
   "outputs": [],
   "source": [
    "from __future__ import absolute_import, division, print_function, unicode_literals\n",
    "%matplotlib inline"
   ]
  },
  {
   "cell_type": "code",
   "execution_count": 3,
   "metadata": {
    "collapsed": false
   },
   "outputs": [],
   "source": [
    "\n",
    "# import threading\n",
    "import multiprocessing\n",
    "import os\n",
    "# import numpy as np\n",
    "# import matplotlib.pyplot as plt\n",
    "import tensorflow as tf\n",
    "import tensorflow.contrib.slim as slim\n",
    "import gym\n",
    "# import scipy.signal\n",
    "# from vizdoom import *\n",
    "\n",
    "# from random import choice\n",
    "# from time import sleep\n",
    "# from time import time\n",
    "\n",
    "from utils import *\n",
    "from a3c import *\n",
    "from juliani_helper import *"
   ]
  },
  {
   "cell_type": "code",
   "execution_count": 4,
   "metadata": {
    "collapsed": false
   },
   "outputs": [],
   "source": [
    "## Hyperparameters\n",
    "max_episode_length = 300\n",
    "gamma = 0.99\n",
    "down_sample_factor = 2\n",
    "\n",
    "load_model = False\n",
    "model_path = os.path.join('.', 'model')\n",
    "frames_path = os.path.join('.', 'frames')"
   ]
  },
  {
   "cell_type": "code",
   "execution_count": 5,
   "metadata": {
    "collapsed": false
   },
   "outputs": [
    {
     "name": "stderr",
     "output_type": "stream",
     "text": [
      "[2017-06-01 11:09:41,358] Making new env: CartPole-v1\n"
     ]
    },
    {
     "name": "stdout",
     "output_type": "stream",
     "text": [
      "s_size: [75, 150, 1]\n"
     ]
    }
   ],
   "source": [
    "## Setup\n",
    "num_cpu=multiprocessing.cpu_count()\n",
    "\n",
    "if not os.path.exists(model_path):\n",
    "    os.makedirs(model_path)\n",
    "\n",
    "if not os.path.exists(frames_path):\n",
    "    os.makedirs(frames_path)\n",
    "\n",
    "env = gym.make('CartPole-v1')\n",
    "env.reset()\n",
    "observation = prepro(env.render(mode='rgb_array'), down_sample_factor)\n",
    "\n",
    "a_size = 3 # number of action dimensions\n",
    "s_size = [observation.shape[0], \n",
    "          observation.shape[1],\n",
    "          1]\n",
    "\n",
    "print('s_size:', s_size)"
   ]
  },
  {
   "cell_type": "code",
   "execution_count": 6,
   "metadata": {
    "collapsed": false
   },
   "outputs": [
    {
     "name": "stdout",
     "output_type": "stream",
     "text": [
      "load_model: False\n",
      "Number of available CPU cores: 4\n"
     ]
    }
   ],
   "source": [
    "## Print Hyperparameter summary\n",
    "print('load_model:', load_model)\n",
    "\n",
    "## Print setup summary\n",
    "print('Number of available CPU cores:', num_cpu)"
   ]
  },
  {
   "cell_type": "code",
   "execution_count": 9,
   "metadata": {
    "collapsed": false,
    "scrolled": false
   },
   "outputs": [
    {
     "name": "stderr",
     "output_type": "stream",
     "text": [
      "[2017-06-01 11:11:10,714] Making new env: CartPole-v1\n",
      "[2017-06-01 11:11:11,702] Making new env: CartPole-v1\n",
      "[2017-06-01 11:11:12,781] Making new env: CartPole-v1\n",
      "[2017-06-01 11:11:13,661] Making new env: CartPole-v1\n"
     ]
    },
    {
     "name": "stdout",
     "output_type": "stream",
     "text": [
      "Staring worker0\n"
     ]
    },
    {
     "name": "stderr",
     "output_type": "stream",
     "text": [
      "Exception in thread Thread-25:\n",
      "Traceback (most recent call last):\n",
      "  File \"C:\\Lasagne\\WinPython\\python-3.5.2.amd64\\lib\\threading.py\", line 914, in _bootstrap_inner\n",
      "    self.run()\n",
      "  File \"C:\\Lasagne\\WinPython\\python-3.5.2.amd64\\lib\\threading.py\", line 862, in run\n",
      "    self._target(*self._args, **self._kwargs)\n",
      "  File \"<ipython-input-9-09fa38d5e23f>\", line 31, in <lambda>\n",
      "    worker_work = lambda: worker.work(max_episode_length, gamma, sess, coord, saver)\n",
      "  File \"C:\\Users\\tokee\\Dropbox\\SchoolWork\\12017a_BSc_KAIST\\code_101\\a3c.py\", line 184, in work\n",
      "    s = self.env.render(mode='rgb_array')\n",
      "  File \"C:\\Lasagne\\WinPython\\python-3.5.2.amd64\\lib\\site-packages\\gym\\core.py\", line 153, in render\n",
      "    return self._render(mode=mode, close=close)\n",
      "  File \"C:\\Lasagne\\WinPython\\python-3.5.2.amd64\\lib\\site-packages\\gym\\core.py\", line 285, in _render\n",
      "    return self.env.render(mode, close)\n",
      "  File \"C:\\Lasagne\\WinPython\\python-3.5.2.amd64\\lib\\site-packages\\gym\\core.py\", line 153, in render\n",
      "    return self._render(mode=mode, close=close)\n",
      "  File \"C:\\Lasagne\\WinPython\\python-3.5.2.amd64\\lib\\site-packages\\gym\\envs\\classic_control\\cartpole.py\", line 115, in _render\n",
      "    self.viewer = rendering.Viewer(screen_width, screen_height)\n",
      "  File \"C:\\Lasagne\\WinPython\\python-3.5.2.amd64\\lib\\site-packages\\gym\\envs\\classic_control\\rendering.py\", line 51, in __init__\n",
      "    self.window = pyglet.window.Window(width=width, height=height, display=display)\n",
      "  File \"C:\\Lasagne\\WinPython\\python-3.5.2.amd64\\lib\\site-packages\\pyglet\\window\\win32\\__init__.py\", line 131, in __init__\n",
      "    super(Win32Window, self).__init__(*args, **kwargs)\n",
      "  File \"C:\\Lasagne\\WinPython\\python-3.5.2.amd64\\lib\\site-packages\\pyglet\\window\\__init__.py\", line 558, in __init__\n",
      "    self._create()\n",
      "  File \"C:\\Lasagne\\WinPython\\python-3.5.2.amd64\\lib\\site-packages\\pyglet\\window\\win32\\__init__.py\", line 263, in _create\n",
      "    self.context.attach(self.canvas)\n",
      "  File \"C:\\Lasagne\\WinPython\\python-3.5.2.amd64\\lib\\site-packages\\pyglet\\gl\\win32.py\", line 265, in attach\n",
      "    super(Win32ARBContext, self).attach(canvas)\n",
      "  File \"C:\\Lasagne\\WinPython\\python-3.5.2.amd64\\lib\\site-packages\\pyglet\\gl\\win32.py\", line 210, in attach\n",
      "    raise gl.ContextException('Unable to share contexts')\n",
      "pyglet.gl.ContextException: Unable to share contexts\n",
      "\n"
     ]
    },
    {
     "name": "stdout",
     "output_type": "stream",
     "text": [
      "5uccess!\n"
     ]
    }
   ],
   "source": [
    "tf.reset_default_graph()\n",
    "\n",
    "## Initialize worker and agents\n",
    "with tf.device('/cpu:0'):\n",
    "    global_episodes = tf.Variable(0, dtype=tf.int32, name='global_episodes',\n",
    "                                  trainable=False)\n",
    "    trainer = tf.train.AdamOptimizer(learning_rate=1e-4) #TODO: Change to RMSProp\n",
    "    \n",
    "    master_network = AC_Network(s_size, a_size, scope='global', trainer=None)\n",
    "    workers = []\n",
    "    for i in range(num_cpu):\n",
    "        env = gym.make('CartPole-v1')\n",
    "        workers.append(Worker(env, i, s_size, a_size, trainer,\n",
    "                             model_path, global_episodes))\n",
    "    saver = tf.train.Saver(max_to_keep=5)\n",
    "\n",
    "\n",
    "## Train model\n",
    "with tf.Session() as sess:\n",
    "    coord = tf.train.Coordinator() # Used to coordinate different threads\n",
    "    \n",
    "    if load_model:\n",
    "        print('Loading model...')\n",
    "        ckpt = tf.rain.get_checkpoint_state(model_path)\n",
    "        saver.restore(sess, ckpt.model_checkpoint_path)\n",
    "    else:\n",
    "        sess.run(tf.global_variables_initializer())\n",
    "    \n",
    "    worker_threads = []\n",
    "    for worker in workers:\n",
    "        worker_work = lambda: worker.work(max_episode_length, gamma, sess, coord, saver)\n",
    "        t = threading.Thread(target=(worker_work))\n",
    "        t.start() # set the thread to start working\n",
    "        sleep(0.5) #TODO: Is this really the best way to do this???!\n",
    "        worker_threads.append(t)\n",
    "        break\n",
    "    coord.join(worker_threads)\n",
    "\n",
    "print('5uccess!')"
   ]
  },
  {
   "cell_type": "code",
   "execution_count": 8,
   "metadata": {
    "collapsed": false
   },
   "outputs": [
    {
     "name": "stdout",
     "output_type": "stream",
     "text": [
      "Done\n"
     ]
    }
   ],
   "source": [
    "print('Done')"
   ]
  },
  {
   "cell_type": "code",
   "execution_count": null,
   "metadata": {
    "collapsed": true
   },
   "outputs": [],
   "source": []
  },
  {
   "cell_type": "code",
   "execution_count": null,
   "metadata": {
    "collapsed": true
   },
   "outputs": [],
   "source": []
  },
  {
   "cell_type": "markdown",
   "metadata": {},
   "source": [
    "\n",
    "\n",
    "\n",
    "\n",
    "\n",
    "\n",
    "\n",
    "\n",
    "\n",
    "\n",
    "\n"
   ]
  }
 ],
 "metadata": {
  "kernelspec": {
   "display_name": "Python 3",
   "language": "python",
   "name": "python3"
  },
  "language_info": {
   "codemirror_mode": {
    "name": "ipython",
    "version": 3
   },
   "file_extension": ".py",
   "mimetype": "text/x-python",
   "name": "python",
   "nbconvert_exporter": "python",
   "pygments_lexer": "ipython3",
   "version": "3.5.2"
  }
 },
 "nbformat": 4,
 "nbformat_minor": 1
}
